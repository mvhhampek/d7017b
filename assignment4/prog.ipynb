{
 "cells": [
  {
   "cell_type": "code",
   "execution_count": 24,
   "id": "0a6ec840",
   "metadata": {},
   "outputs": [],
   "source": [
    "import pandas as pd\n",
    "import numpy as np\n",
    "\n",
    "from sklearn.svm import SVR\n",
    "import torch\n",
    "\n",
    "import torch.nn as nn\n",
    "\n",
    "from sklearn.preprocessing import StandardScaler\n",
    "from sklearn.metrics import mean_squared_error\n",
    "import torch.optim as optim\n",
    "from torch.utils.data import DataLoader, TensorDataset\n",
    "from sklearn.model_selection import GridSearchCV # to find hgyper params for svr"
   ]
  },
  {
   "cell_type": "code",
   "execution_count": 10,
   "id": "057b3c43",
   "metadata": {},
   "outputs": [],
   "source": [
    "# 1)\tunit number\n",
    "# 2)\ttime, in cycles\n",
    "# 3)\toperational setting 1\n",
    "# 4)\toperational setting 2\n",
    "# 5)\toperational setting 3\n",
    "# 6)\tsensor measurement  1\n",
    "# 7)\tsensor measurement  2\n",
    "# ...\n",
    "# 26)\tsensor measurement  26\n",
    "\n",
    "cols = ['unit_number', 'cycles'] + [f'op_setting_{i}' for i in range(1, 4)] + [f'sensor_{i}' for i in range(1, 22)]\n",
    "train_df = pd.read_csv('data/CMAPSS/train_FD001.txt', sep=' ', header=None)\n",
    "train_df = train_df.dropna(axis=1, how='all')\n",
    "train_df.columns = cols\n",
    "rul_train = train_df.groupby('unit_number')['cycles'].max().reset_index()\n",
    "rul_train.columns = ['unit_number', 'max_cycles']\n",
    "train_df = train_df.merge(rul_train, on='unit_number')\n",
    "train_df['RUL'] = train_df['max_cycles'] - train_df['cycles']\n",
    "\n",
    "\n",
    "test_df = pd.read_csv('data/CMAPSS/test_FD001.txt', sep=' ', header=None)\n",
    "test_df = test_df.dropna(axis=1, how='all')\n",
    "test_df.columns = cols\n",
    "true_rul = pd.read_csv('data/CMAPSS/RUL_FD001.txt', header=None)"
   ]
  },
  {
   "cell_type": "code",
   "execution_count": null,
   "id": "dcf90207",
   "metadata": {},
   "outputs": [
    {
     "name": "stdout",
     "output_type": "stream",
     "text": [
      "Test RMSE: 80.30\n"
     ]
    }
   ],
   "source": [
    "X_train = train_df[[f'sensor_{i}' for i in range(1, 22)]].values\n",
    "y_train = train_df['RUL'].values\n",
    "\n",
    "X_test = test_df[[f'sensor_{i}' for i in range(1, 22)]].values\n",
    "y_test = np.repeat(true_rul[0].values, test_df.groupby('unit_number').size().values)\n",
    "\n",
    "\n",
    "scaler = StandardScaler()\n",
    "X_train_scaled = scaler.fit_transform(X_train)\n",
    "X_test_scaled = scaler.transform(X_test)\n",
    "\n",
    "\n",
    "svr = SVR(C =10, epsilon= 0.5, kernel= 'rbf')\n",
    "\n",
    "svr.fit(X_train_scaled, y_train)\n",
    "\n",
    "\n",
    "\n",
    "\n",
    "pred = svr.predict(X_test_scaled)\n",
    "rmse = np.sqrt(mean_squared_error(y_test, pred))\n",
    "print(f\"test RMSE: {rmse:.2f}\")"
   ]
  },
  {
   "cell_type": "code",
   "execution_count": 66,
   "id": "aee71b7d",
   "metadata": {},
   "outputs": [],
   "source": [
    "class LSTM(nn.Module):\n",
    "    def __init__(self, input_size=21, hidden_size=128, num_layers=5, dropout=0.3):\n",
    "        super().__init__()\n",
    "        self.lstm = nn.LSTM(\n",
    "            input_size, hidden_size, num_layers,\n",
    "            batch_first=True, dropout=dropout, bidirectional=True\n",
    "        )\n",
    "        self.fc = nn.Linear(hidden_size * 2, 1)  # bidirectional\n",
    "\n",
    "    def forward(self, x):\n",
    "        out, _ = self.lstm(x)\n",
    "        out = out[:, -1, :] \n",
    "        out = self.fc(out)\n",
    "        return out.squeeze()"
   ]
  },
  {
   "cell_type": "code",
   "execution_count": 98,
   "id": "8b407708",
   "metadata": {},
   "outputs": [
    {
     "name": "stdout",
     "output_type": "stream",
     "text": [
      "data shape: torch.Size([10731, 100, 21]), targets shape: torch.Size([10731])\n"
     ]
    }
   ],
   "source": [
    "sequence_length = 100\n",
    "features = [f'sensor_{i}' for i in range(1, 22)]\n",
    "\n",
    "\n",
    "X_list, y_list = [], []\n",
    "for eid in train_df['unit_number'].unique():\n",
    "    unit = train_df[train_df['unit_number'] == eid]\n",
    "    data = unit[features].values\n",
    "    rul = unit['RUL'].values\n",
    "    for i in range(len(data) - sequence_length + 1):\n",
    "        X_list.append(data[i:i+sequence_length])\n",
    "        y_list.append(rul[i + sequence_length - 1])\n",
    "\n",
    "\n",
    "X_tensor = torch.tensor(np.array(X_list), dtype=torch.float32)\n",
    "y_tensor = torch.tensor(np.array(y_list), dtype=torch.float32)\n",
    "\n",
    "\n",
    "dataset = TensorDataset(X_tensor, y_tensor)\n",
    "loader = DataLoader(dataset, batch_size=64, shuffle=True)\n",
    "\n",
    "print(f\"data shape: {X_tensor.shape}, targets shape: {y_tensor.shape}\")"
   ]
  },
  {
   "cell_type": "code",
   "execution_count": 95,
   "id": "eb3336e7",
   "metadata": {},
   "outputs": [
    {
     "name": "stdout",
     "output_type": "stream",
     "text": [
      "Epoch [  1/100] (0/5) loss: 3813.9562\n",
      "Epoch [  2/100] (0/5) loss: 2410.7772\n",
      "Epoch [  3/100] (0/5) loss: 2243.4498\n",
      "Epoch [  4/100] (0/5) loss: 2235.4878\n",
      "Epoch [  5/100] (0/5) loss: 2236.9574\n",
      "Epoch [  6/100] (1/5) loss: 2234.9336\n",
      "Epoch [  7/100] (0/5) loss: 2233.4643\n",
      "Epoch [  8/100] (0/5) loss: 2234.1578\n",
      "Epoch [  9/100] (1/5) loss: 2234.1558\n",
      "Epoch [ 10/100] (2/5) loss: 2234.0658\n",
      "Epoch [ 11/100] (3/5) loss: 2233.7287\n",
      "Epoch [ 12/100] (4/5) loss: 2234.7090\n",
      "early stop!\n"
     ]
    },
    {
     "data": {
      "text/plain": [
       "<All keys matched successfully>"
      ]
     },
     "execution_count": 95,
     "metadata": {},
     "output_type": "execute_result"
    }
   ],
   "source": [
    "def rmse_loss(pred, target):\n",
    "    return torch.sqrt(nn.functional.mse_loss(pred, target))\n",
    "\n",
    "\n",
    "\n",
    "device = torch.device('cuda' if torch.cuda.is_available() else 'cpu')\n",
    "model = LSTM().to(device)\n",
    "criterion = nn.MSELoss()\n",
    "optimizer = optim.AdamW(model.parameters(), lr=1e-3, weight_decay=5e-5)\n",
    "scheduler = optim.lr_scheduler.ReduceLROnPlateau(optimizer, mode='min', factor=0.5, patience=3)\n",
    "\n",
    "epochs = 100\n",
    "best_loss = float('inf')\n",
    "patience = 5\n",
    "counter = 0\n",
    "\n",
    "\n",
    "\n",
    "for epoch in range(epochs):\n",
    "    model.train()\n",
    "    total_loss = 0\n",
    "    for X_batch, y_batch in loader:\n",
    "        X_batch, y_batch = X_batch.to(device), y_batch.to(device)\n",
    "        optimizer.zero_grad()\n",
    "        output = model(X_batch)\n",
    "        loss = criterion(output, y_batch)\n",
    "        #loss = rmse_loss(output, y_batch)\n",
    "        loss.backward()\n",
    "        optimizer.step()\n",
    "        total_loss += loss.item()\n",
    "    avg_loss = total_loss / len(loader)\n",
    "    scheduler.step(avg_loss)\n",
    "    print(f\"Epoch [{epoch+1:>3}/{epochs}] ({counter}/{patience}) loss: {avg_loss:.4f}\")\n",
    "\n",
    "\n",
    "    if avg_loss < best_loss:\n",
    "        best_loss = avg_loss\n",
    "        counter = 0\n",
    "        best_model_state = model.state_dict()\n",
    "    else:\n",
    "        counter += 1\n",
    "        if counter >= patience:\n",
    "            print(\"early stop!\")\n",
    "            break\n",
    "\n",
    "\n",
    "model.load_state_dict(best_model_state)"
   ]
  },
  {
   "cell_type": "code",
   "execution_count": 99,
   "id": "91d4eae7",
   "metadata": {},
   "outputs": [
    {
     "name": "stdout",
     "output_type": "stream",
     "text": [
      "test RMSE: 39.89\n"
     ]
    }
   ],
   "source": [
    "X_test_list, y_test_list = [], []\n",
    "\n",
    "for eid in test_df['unit_number'].unique():\n",
    "    unit = test_df[test_df['unit_number'] == eid]\n",
    "    data = unit[features].values\n",
    "    rul_value = true_rul.iloc[eid - 1, 0]\n",
    "    for i in range(len(data) - sequence_length + 1):\n",
    "        X_test_list.append(data[i:i + sequence_length])\n",
    "        y_test_list.append(rul_value)\n",
    "\n",
    "\n",
    "X_test_tensor = torch.tensor(np.array(X_test_list), dtype=torch.float32)\n",
    "y_test_tensor = torch.tensor(np.array(y_test_list), dtype=torch.float32)\n",
    "\n",
    "test_dataset = TensorDataset(X_test_tensor, y_test_tensor)\n",
    "test_loader = DataLoader(test_dataset, batch_size=64, shuffle=False)\n",
    "\n",
    "model.eval()\n",
    "all_preds, all_targets = [], []\n",
    "with torch.no_grad():\n",
    "    for X_batch, y_batch in test_loader:\n",
    "        X_batch = X_batch.to(device)\n",
    "        preds = model(X_batch).cpu()\n",
    "        all_preds.append(preds)\n",
    "        all_targets.append(y_batch)\n",
    "\n",
    "all_preds = torch.cat(all_preds)\n",
    "all_targets = torch.cat(all_targets)\n",
    "rmse = torch.sqrt(nn.functional.mse_loss(all_preds, all_targets))\n",
    "print(f\"test RMSE: {rmse:.2f}\")"
   ]
  }
 ],
 "metadata": {
  "kernelspec": {
   "display_name": "Python 3",
   "language": "python",
   "name": "python3"
  },
  "language_info": {
   "codemirror_mode": {
    "name": "ipython",
    "version": 3
   },
   "file_extension": ".py",
   "mimetype": "text/x-python",
   "name": "python",
   "nbconvert_exporter": "python",
   "pygments_lexer": "ipython3",
   "version": "3.11.8"
  }
 },
 "nbformat": 4,
 "nbformat_minor": 5
}
